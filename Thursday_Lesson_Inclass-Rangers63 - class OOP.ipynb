{
 "cells": [
  {
   "cell_type": "markdown",
   "metadata": {},
   "source": [
    "# Object-Oriented-Programming (OOP)"
   ]
  },
  {
   "cell_type": "markdown",
   "metadata": {},
   "source": [
    "## Tasks Today:\n",
    "\n",
    "   \n",
    "\n",
    "1) <b>Creating a Class (Initializing/Declaring)</b> <br>\n",
    "2) <b>Using a Class (Instantiating)</b> <br>\n",
    " &nbsp;&nbsp;&nbsp;&nbsp; a) Creating One Instance <br>\n",
    " &nbsp;&nbsp;&nbsp;&nbsp; b) Creating Multiple Instances <br>\n",
    " &nbsp;&nbsp;&nbsp;&nbsp; c) In-Class Exercise #1 - Create a Class 'Car' and instantiate three different makes of cars <br>\n",
    "3) <b>The \\__init\\__() Method</b> <br>\n",
    " &nbsp;&nbsp;&nbsp;&nbsp; a) The 'self' Attribute <br>\n",
    "4) <b>Class Attributes</b> <br>\n",
    " &nbsp;&nbsp;&nbsp;&nbsp; a) Initializing Attributes <br>\n",
    " &nbsp;&nbsp;&nbsp;&nbsp; b) Setting an Attribute Outside of the \\__init\\__() Method <br>\n",
    " &nbsp;&nbsp;&nbsp;&nbsp; c) Setting Defaults for Attributes <br>\n",
    " &nbsp;&nbsp;&nbsp;&nbsp; d) Accessing Class Attributes <br>\n",
    " &nbsp;&nbsp;&nbsp;&nbsp; e) Changing Class Attributes <br>\n",
    " &nbsp;&nbsp;&nbsp;&nbsp; f) In-Class Exercise #2 - Add a color and wheels attribute to your 'Car' class <br>\n",
    "5) <b>Class Methods</b> <br>\n",
    " &nbsp;&nbsp;&nbsp;&nbsp; a) Creating <br>\n",
    " &nbsp;&nbsp;&nbsp;&nbsp; b) Calling <br>\n",
    " &nbsp;&nbsp;&nbsp;&nbsp; c) Modifying an Attribute's Value Through a Method <br>\n",
    " &nbsp;&nbsp;&nbsp;&nbsp; d) Incrementing an Attribute's Value Through a Method <br>\n",
    " &nbsp;&nbsp;&nbsp;&nbsp; e) In-Class Exercise #3 - Add a method that prints the cars color and wheel number, then call them <br>\n",
    "6) <b>Inheritance</b> <br>\n",
    " &nbsp;&nbsp;&nbsp;&nbsp; a) Syntax for Inheriting from a Parent Class <br>\n",
    " &nbsp;&nbsp;&nbsp;&nbsp; b) The \\__init\\__() Method for a Child Class (super()) <br>\n",
    " &nbsp;&nbsp;&nbsp;&nbsp; c) Defining Attributes and Methods for the Child Class <br>\n",
    " &nbsp;&nbsp;&nbsp;&nbsp; d) Method Overriding <br>\n",
    " &nbsp;&nbsp;&nbsp;&nbsp; e) In-Class Exercise #4 - Create a class 'Ford' that inherits from 'Car' class and initialize it as a Blue Ford Explorer with 4 wheels using the super() method <br>\n",
    "7) <b>Classes as Attributes</b> <br>\n",
    "8) <b>Exercises</b> <br>\n",
    " &nbsp;&nbsp;&nbsp;&nbsp; a) Exercise #1 - Turn the shopping cart program from yesterday into an object-oriented program <br>"
   ]
  },
  {
   "cell_type": "markdown",
   "metadata": {},
   "source": [
    "## Creating a Class (Initializing/Declaring)\n",
    "<p>When creating a class, function, or even a variable you are initializing that object. Initializing and Declaring occur at the same time in Python, whereas in lower level languages you have to declare an object before initializing it. This is the first step in the process of using a class.</p>"
   ]
  },
  {
   "cell_type": "code",
   "execution_count": 1,
   "metadata": {},
   "outputs": [],
   "source": [
    "class Car:\n",
    "    color = 'Red'\n",
    "    make = 'Honda'\n",
    "    model = 'Accord'\n",
    "    year = 2019"
   ]
  },
  {
   "cell_type": "code",
   "execution_count": 2,
   "metadata": {},
   "outputs": [],
   "source": [
    "car1 = Car()"
   ]
  },
  {
   "cell_type": "code",
   "execution_count": 3,
   "metadata": {},
   "outputs": [
    {
     "name": "stdout",
     "output_type": "stream",
     "text": [
      "Red\n"
     ]
    }
   ],
   "source": [
    "print(car1.color)"
   ]
  },
  {
   "cell_type": "code",
   "execution_count": 4,
   "metadata": {},
   "outputs": [],
   "source": [
    "car1.color = 'Green'"
   ]
  },
  {
   "cell_type": "code",
   "execution_count": 5,
   "metadata": {},
   "outputs": [
    {
     "name": "stdout",
     "output_type": "stream",
     "text": [
      "Help on class Car in module __main__:\n",
      "\n",
      "class Car(builtins.object)\n",
      " |  Data descriptors defined here:\n",
      " |  \n",
      " |  __dict__\n",
      " |      dictionary for instance variables (if defined)\n",
      " |  \n",
      " |  __weakref__\n",
      " |      list of weak references to the object (if defined)\n",
      " |  \n",
      " |  ----------------------------------------------------------------------\n",
      " |  Data and other attributes defined here:\n",
      " |  \n",
      " |  color = 'Red'\n",
      " |  \n",
      " |  make = 'Honda'\n",
      " |  \n",
      " |  model = 'Accord'\n",
      " |  \n",
      " |  year = 2019\n",
      "\n"
     ]
    }
   ],
   "source": [
    "help(Car)"
   ]
  },
  {
   "cell_type": "code",
   "execution_count": 6,
   "metadata": {},
   "outputs": [
    {
     "ename": "SyntaxError",
     "evalue": "EOL while scanning string literal (2886764018.py, line 4)",
     "output_type": "error",
     "traceback": [
      "\u001b[1;36m  File \u001b[1;32m\"C:\\Users\\abech\\AppData\\Local\\Temp\\ipykernel_23028\\2886764018.py\"\u001b[1;36m, line \u001b[1;32m4\u001b[0m\n\u001b[1;33m    \"\"\"\"\"\"\"\u001b[0m\n\u001b[1;37m           ^\u001b[0m\n\u001b[1;31mSyntaxError\u001b[0m\u001b[1;31m:\u001b[0m EOL while scanning string literal\n"
     ]
    }
   ],
   "source": [
    "import math\n",
    "\n",
    "def hello_world(arg1):\n",
    "    \"\"\"\"\"\"\""
   ]
  },
  {
   "cell_type": "code",
   "execution_count": 7,
   "metadata": {},
   "outputs": [],
   "source": [
    "# class ShoppingCart"
   ]
  },
  {
   "cell_type": "markdown",
   "metadata": {},
   "source": [
    "## Using a Class (Instantiating)\n",
    "<p>The process of creating a class is called <i>Instantiating</i>. Each time you create a variable of that type of class, it is referred to as an <i>Instance</i> of that class. This is the second step in the process of using a class.</p>"
   ]
  },
  {
   "cell_type": "markdown",
   "metadata": {},
   "source": [
    "##### Creating One Instance"
   ]
  },
  {
   "cell_type": "code",
   "execution_count": 8,
   "metadata": {},
   "outputs": [],
   "source": [
    "ford = Car()\n",
    "\n",
    "ford.color = 'blue'"
   ]
  },
  {
   "cell_type": "code",
   "execution_count": 9,
   "metadata": {},
   "outputs": [
    {
     "data": {
      "text/plain": [
       "'blue'"
      ]
     },
     "execution_count": 9,
     "metadata": {},
     "output_type": "execute_result"
    }
   ],
   "source": [
    "ford.color"
   ]
  },
  {
   "cell_type": "code",
   "execution_count": 10,
   "metadata": {},
   "outputs": [
    {
     "data": {
      "text/plain": [
       "'Green'"
      ]
     },
     "execution_count": 10,
     "metadata": {},
     "output_type": "execute_result"
    }
   ],
   "source": [
    "car1.color"
   ]
  },
  {
   "cell_type": "markdown",
   "metadata": {},
   "source": [
    "##### Creating Multiple Instances"
   ]
  },
  {
   "cell_type": "code",
   "execution_count": 11,
   "metadata": {},
   "outputs": [],
   "source": [
    "car2 = Car()\n",
    "car3 = Car()"
   ]
  },
  {
   "cell_type": "markdown",
   "metadata": {},
   "source": [
    "##### In-Class Exercise #1 - Create a Class 'Car' and Instantiate three different makes of cars"
   ]
  },
  {
   "cell_type": "code",
   "execution_count": 44,
   "metadata": {},
   "outputs": [],
   "source": [
    "class Products:\n",
    "    def __init__(self, brand, model, color, year):\n",
    "        self.color = color\n",
    "        self.brand = brand\n",
    "        self.model = model\n",
    "        self.year = year\n",
    "\n",
    "        \n",
    "HP = Products('HP', 'HP Envy 13', 'White', 2022)\n",
    "Dell = Products('Dell', 'Dell XPS 15', 'Rose Gold', 2019)\n",
    "Microsoft = Products('Microsoft', 'Surface Laptop 4', 'Silver', 2023)"
   ]
  },
  {
   "cell_type": "code",
   "execution_count": 41,
   "metadata": {},
   "outputs": [
    {
     "name": "stdout",
     "output_type": "stream",
     "text": [
      "HP Envy 13 from 2022\n"
     ]
    }
   ],
   "source": [
    "print(f'{HP.model} from {HP.year}')"
   ]
  },
  {
   "cell_type": "code",
   "execution_count": 48,
   "metadata": {},
   "outputs": [
    {
     "name": "stdout",
     "output_type": "stream",
     "text": [
      "Product Name: t\n",
      "Product Brand: e\n",
      "Product Color: s\n"
     ]
    },
    {
     "ename": "NameError",
     "evalue": "name 'self' is not defined",
     "output_type": "error",
     "traceback": [
      "\u001b[1;31m---------------------------------------------------------------------------\u001b[0m",
      "\u001b[1;31mNameError\u001b[0m                                 Traceback (most recent call last)",
      "\u001b[1;32m~\\AppData\\Local\\Temp\\ipykernel_23028\\2427204882.py\u001b[0m in \u001b[0;36m<module>\u001b[1;34m\u001b[0m\n\u001b[0;32m      3\u001b[0m \u001b[0mcolor\u001b[0m \u001b[1;33m=\u001b[0m \u001b[0minput\u001b[0m\u001b[1;33m(\u001b[0m\u001b[1;34m'Product Color: '\u001b[0m\u001b[1;33m)\u001b[0m\u001b[1;33m\u001b[0m\u001b[1;33m\u001b[0m\u001b[0m\n\u001b[0;32m      4\u001b[0m \u001b[1;33m\u001b[0m\u001b[0m\n\u001b[1;32m----> 5\u001b[1;33m \u001b[0mnew_product\u001b[0m \u001b[1;33m=\u001b[0m \u001b[0mProducts\u001b[0m\u001b[1;33m(\u001b[0m\u001b[0mself\u001b[0m\u001b[1;33m,\u001b[0m \u001b[0mname\u001b[0m\u001b[1;33m,\u001b[0m \u001b[0mbrand\u001b[0m\u001b[1;33m,\u001b[0m \u001b[0mcolor\u001b[0m\u001b[1;33m)\u001b[0m\u001b[1;33m\u001b[0m\u001b[1;33m\u001b[0m\u001b[0m\n\u001b[0m",
      "\u001b[1;31mNameError\u001b[0m: name 'self' is not defined"
     ]
    }
   ],
   "source": [
    "name = input('Product Name: ')\n",
    "brand = input('Product Brand: ')\n",
    "color = input('Product Color: ')\n",
    "\n",
    "new_product = Products(name, brand, color)"
   ]
  },
  {
   "cell_type": "markdown",
   "metadata": {},
   "source": [
    "## The \\__init\\__() Method <br>\n",
    "<p>This method is used in almost every created class, and called only once upon the creation of the class instance. This method will initialize all variables needed for the object.</p>"
   ]
  },
  {
   "cell_type": "code",
   "execution_count": 12,
   "metadata": {},
   "outputs": [],
   "source": [
    "class Car:\n",
    "    color = 'Red'\n",
    "    make = 'Honda'\n",
    "    model = 'Accord'\n",
    "    year = 2019\n",
    "    \n",
    "ford = Car()\n",
    "ford.color = 'Green'\n",
    "ford.make = 'Ford'\n",
    "ford.model = 'Explorer'\n",
    "ford.year = 2018"
   ]
  },
  {
   "cell_type": "code",
   "execution_count": 21,
   "metadata": {},
   "outputs": [],
   "source": [
    "# Easier way than top\n",
    "class Package:\n",
    "    #Information about the package\n",
    "    def __init__(self,name):\n",
    "        self.name = name\n",
    "class Car:\n",
    "    def __init__(self, make, model, color, year, package):\n",
    "        self.color = color # Instance Attribute\n",
    "        self.make = make\n",
    "        self.model = model\n",
    "        self.year = year\n",
    "        self.package = package\n",
    "        \n",
    "class Lot:\n",
    "    def __init__(self):\n",
    "        self.cars = ['green']\n",
    "        \n",
    "package_basic = Package('Basic')\n",
    "package_limited = Package('Limited')\n",
    "        \n",
    "Explorer = Car('Ford', 'Explorer', 'Green', 2018, package_basic)\n",
    "crv = Car('Honda', 'CRV', 'Blue', 2017, package_limited)"
   ]
  },
  {
   "cell_type": "code",
   "execution_count": 32,
   "metadata": {},
   "outputs": [
    {
     "data": {
      "text/plain": [
       "'Limited'"
      ]
     },
     "execution_count": 32,
     "metadata": {},
     "output_type": "execute_result"
    }
   ],
   "source": [
    "crv.package.name"
   ]
  },
  {
   "cell_type": "code",
   "execution_count": 24,
   "metadata": {},
   "outputs": [
    {
     "data": {
      "text/plain": [
       "{'color': 'Blue',\n",
       " 'make': 'Honda',\n",
       " 'model': 'CRV',\n",
       " 'year': 2017,\n",
       " 'package': <__main__.Package at 0x1b407748c10>}"
      ]
     },
     "execution_count": 24,
     "metadata": {},
     "output_type": "execute_result"
    }
   ],
   "source": [
    "crv.__dict__ # two underscroll for dict and init _ _"
   ]
  },
  {
   "cell_type": "markdown",
   "metadata": {},
   "source": [
    "##### The 'self' Attribute <br>\n",
    "<p>This attribute is required to keep track of specific instance's attributes. Without the self attribute, the program would not know how to reference or keep track of an instance's attributes.</p>"
   ]
  },
  {
   "cell_type": "code",
   "execution_count": null,
   "metadata": {},
   "outputs": [],
   "source": [
    "# see above"
   ]
  },
  {
   "cell_type": "markdown",
   "metadata": {},
   "source": [
    "## Class Attributes <br>\n",
    "<p>While variables are inside of a class, they are referred to as attributes and not variables. When someone says 'attribute' you know they're speaking about a class. Attributes can be initialized through the init method, or outside of it.</p>"
   ]
  },
  {
   "cell_type": "markdown",
   "metadata": {},
   "source": [
    "##### Initializing Attributes"
   ]
  },
  {
   "cell_type": "code",
   "execution_count": 63,
   "metadata": {},
   "outputs": [],
   "source": [
    "# see above\n",
    "class Product:\n",
    "    products = []\n",
    "    def __init__(self, name, brand, price):\n",
    "        self.name = name\n",
    "        self.brand = brand\n",
    "        self.price = price\n",
    "        self.products.append(self)\n",
    "        \n",
    "milk = Product('Whole', 'Diary', 4.95)\n",
    "apple = Product('Bag of apples', 'Slice', 5.95)"
   ]
  },
  {
   "cell_type": "code",
   "execution_count": 64,
   "metadata": {},
   "outputs": [
    {
     "data": {
      "text/plain": [
       "'Whole'"
      ]
     },
     "execution_count": 64,
     "metadata": {},
     "output_type": "execute_result"
    }
   ],
   "source": [
    "milk.name"
   ]
  },
  {
   "cell_type": "code",
   "execution_count": 55,
   "metadata": {},
   "outputs": [
    {
     "data": {
      "text/plain": [
       "'Whole'"
      ]
     },
     "execution_count": 55,
     "metadata": {},
     "output_type": "execute_result"
    }
   ],
   "source": [
    "milk.__dict__['name']"
   ]
  },
  {
   "cell_type": "markdown",
   "metadata": {},
   "source": [
    "##### Accessing Class Attributes"
   ]
  },
  {
   "cell_type": "code",
   "execution_count": 61,
   "metadata": {},
   "outputs": [
    {
     "data": {
      "text/plain": [
       "[<__main__.Product at 0x1b407748040>, <__main__.Product at 0x1b4077489a0>]"
      ]
     },
     "execution_count": 61,
     "metadata": {},
     "output_type": "execute_result"
    }
   ],
   "source": [
    "Product.products"
   ]
  },
  {
   "cell_type": "code",
   "execution_count": 59,
   "metadata": {},
   "outputs": [
    {
     "data": {
      "text/plain": [
       "[<__main__.Product at 0x1b407748040>, <__main__.Product at 0x1b4077489a0>]"
      ]
     },
     "execution_count": 59,
     "metadata": {},
     "output_type": "execute_result"
    }
   ],
   "source": [
    "milk.products"
   ]
  },
  {
   "cell_type": "code",
   "execution_count": 60,
   "metadata": {},
   "outputs": [
    {
     "data": {
      "text/plain": [
       "[<__main__.Product at 0x1b407748040>, <__main__.Product at 0x1b4077489a0>]"
      ]
     },
     "execution_count": 60,
     "metadata": {},
     "output_type": "execute_result"
    }
   ],
   "source": [
    "apple.products"
   ]
  },
  {
   "cell_type": "code",
   "execution_count": null,
   "metadata": {
    "scrolled": true
   },
   "outputs": [],
   "source": [
    "# See Above"
   ]
  },
  {
   "cell_type": "markdown",
   "metadata": {},
   "source": [
    "##### Setting Defaults for Attributes"
   ]
  },
  {
   "cell_type": "code",
   "execution_count": null,
   "metadata": {},
   "outputs": [],
   "source": []
  },
  {
   "cell_type": "markdown",
   "metadata": {},
   "source": [
    "##### Changing Class Attributes <br>\n",
    "<p>Keep in mind there are global class attributes and then there are attributes only available to each class instance which won't effect other classes.</p>"
   ]
  },
  {
   "cell_type": "code",
   "execution_count": 68,
   "metadata": {},
   "outputs": [],
   "source": [
    "apple.products.append('Hello World')"
   ]
  },
  {
   "cell_type": "code",
   "execution_count": 70,
   "metadata": {},
   "outputs": [
    {
     "data": {
      "text/plain": [
       "[<__main__.Product at 0x1b4077487c0>,\n",
       " <__main__.Product at 0x1b407748970>,\n",
       " 'Hello World']"
      ]
     },
     "execution_count": 70,
     "metadata": {},
     "output_type": "execute_result"
    }
   ],
   "source": [
    "apple.products"
   ]
  },
  {
   "cell_type": "code",
   "execution_count": 71,
   "metadata": {},
   "outputs": [
    {
     "data": {
      "text/plain": [
       "[<__main__.Product at 0x1b4077487c0>,\n",
       " <__main__.Product at 0x1b407748970>,\n",
       " 'Hello World']"
      ]
     },
     "execution_count": 71,
     "metadata": {},
     "output_type": "execute_result"
    }
   ],
   "source": [
    "Product.products"
   ]
  },
  {
   "cell_type": "code",
   "execution_count": 73,
   "metadata": {},
   "outputs": [],
   "source": [
    "class Car:\n",
    "    color = 'Red'"
   ]
  },
  {
   "cell_type": "code",
   "execution_count": 75,
   "metadata": {},
   "outputs": [],
   "source": [
    "car1 = Car()\n",
    "car2 = Car()"
   ]
  },
  {
   "cell_type": "code",
   "execution_count": 77,
   "metadata": {},
   "outputs": [
    {
     "data": {
      "text/plain": [
       "'Red'"
      ]
     },
     "execution_count": 77,
     "metadata": {},
     "output_type": "execute_result"
    }
   ],
   "source": [
    "car1.color"
   ]
  },
  {
   "cell_type": "code",
   "execution_count": 79,
   "metadata": {},
   "outputs": [],
   "source": [
    "car1.color = 'Blue'"
   ]
  },
  {
   "cell_type": "code",
   "execution_count": 81,
   "metadata": {},
   "outputs": [
    {
     "name": "stdout",
     "output_type": "stream",
     "text": [
      "Blue\n",
      "Red\n"
     ]
    }
   ],
   "source": [
    "print(car1.color)\n",
    "print(car2.color)"
   ]
  },
  {
   "cell_type": "markdown",
   "metadata": {},
   "source": [
    "##### In-Class Exercise #2 - Add a doors and seats attribute to your 'Car' class then print out two different instances with different doors and seats"
   ]
  },
  {
   "cell_type": "code",
   "execution_count": 89,
   "metadata": {},
   "outputs": [],
   "source": [
    "# add stock_qty and price attribute\n",
    "\n",
    "class Products:\n",
    "    def __init__(self, brand, model, color, year, stock_qty, prices):\n",
    "        self.color = color\n",
    "        self.brand = brand\n",
    "        self.model = model\n",
    "        self.year = year\n",
    "        self.stock_qty = stock_qty\n",
    "        self.prices = prices\n",
    "\n",
    "        \n",
    "HP = Products('HP', 'HP Envy 13', 'White', 2022, 201, 1050.21)\n",
    "Dell = Products('Dell', 'Dell XPS 15', 'Rose Gold', 2019, 5213, 2314.54)\n",
    "Microsoft = Products('Microsoft', 'Surface Laptop 4', 'Silver', 2023, 214, 4124.20)"
   ]
  },
  {
   "cell_type": "code",
   "execution_count": 92,
   "metadata": {},
   "outputs": [
    {
     "name": "stdout",
     "output_type": "stream",
     "text": [
      "It costs $1050.21 for a HP Envy 13 and they have 201 available in 2022.\n",
      "It costs $2314.54 for a Dell XPS 15 and they have 5213 available in 2019.\n"
     ]
    }
   ],
   "source": [
    "print(f'It costs ${HP.prices} for a {HP.model} and they have {HP.stock_qty} available in {HP.year}.')\n",
    "\n",
    "print(f'It costs ${Dell.prices} for a {Dell.model} and they have {Dell.stock_qty} available in {Dell.year}.')"
   ]
  },
  {
   "cell_type": "markdown",
   "metadata": {},
   "source": [
    "## Class Methods <br>\n",
    "<p>While inside of a class, functions are referred to as 'methods'. If you hear someone mention methods, they're speaking about classes. Methods are essentially functions, but only callable on the instances of a class.</p>"
   ]
  },
  {
   "cell_type": "markdown",
   "metadata": {},
   "source": [
    "##### Creating"
   ]
  },
  {
   "cell_type": "code",
   "execution_count": 111,
   "metadata": {},
   "outputs": [],
   "source": [
    "class Car:\n",
    "    def __init__(self, make, model, color, year, miles):\n",
    "        self.make = make\n",
    "        self.model = model\n",
    "        self.color = color\n",
    "        self.year = year\n",
    "        self.miles = miles\n",
    "#         self.test_method()\n",
    "        \n",
    "#     def test_method(self):\n",
    "        \n",
    "    def paint_car(self, color):\n",
    "        self.color = color\n",
    "        print(f'The car was painted {color}')\n",
    "        \n",
    "    def drive_car(self, miles_driven):\n",
    "        self.miles += miles_driven\n",
    "        print('VROOM VROOM!')\n",
    "        \n",
    "    def print_car(self):\n",
    "        print(f'This car is a {self.year} {self.make} {self.model} that is {self.color} and has {self.miles} miles.')"
   ]
  },
  {
   "cell_type": "code",
   "execution_count": 115,
   "metadata": {},
   "outputs": [],
   "source": [
    "crv = Car('Honda', 'CRV', 'Green', 2018, 5000)\n",
    "tlx = Car('Acura', 'TLX', 'Red', 2015, 80000)"
   ]
  },
  {
   "cell_type": "code",
   "execution_count": 116,
   "metadata": {},
   "outputs": [
    {
     "name": "stdout",
     "output_type": "stream",
     "text": [
      "This car is a 2018 Honda CRV that is Green and has 5000 miles.\n"
     ]
    }
   ],
   "source": [
    "crv.print_car()"
   ]
  },
  {
   "cell_type": "code",
   "execution_count": 117,
   "metadata": {},
   "outputs": [
    {
     "name": "stdout",
     "output_type": "stream",
     "text": [
      "This car is a 2015 Acura TLX that is Red and has 80000 miles.\n"
     ]
    }
   ],
   "source": [
    "tlx.print_car()"
   ]
  },
  {
   "cell_type": "code",
   "execution_count": 99,
   "metadata": {},
   "outputs": [
    {
     "name": "stdout",
     "output_type": "stream",
     "text": [
      "VROOM VROOM!\n"
     ]
    }
   ],
   "source": [
    "crv.drive_car(100)"
   ]
  },
  {
   "cell_type": "code",
   "execution_count": 100,
   "metadata": {},
   "outputs": [
    {
     "data": {
      "text/plain": [
       "5200"
      ]
     },
     "execution_count": 100,
     "metadata": {},
     "output_type": "execute_result"
    }
   ],
   "source": [
    "crv.miles"
   ]
  },
  {
   "cell_type": "markdown",
   "metadata": {},
   "source": [
    "##### Calling"
   ]
  },
  {
   "cell_type": "code",
   "execution_count": 101,
   "metadata": {},
   "outputs": [
    {
     "name": "stdout",
     "output_type": "stream",
     "text": [
      "VROOM VROOM!\n"
     ]
    }
   ],
   "source": [
    "# See Above\n",
    "crv.drive_car(100)"
   ]
  },
  {
   "cell_type": "markdown",
   "metadata": {},
   "source": [
    "##### Modifying an Attribute's Value Through a Method"
   ]
  },
  {
   "cell_type": "code",
   "execution_count": 105,
   "metadata": {},
   "outputs": [
    {
     "name": "stdout",
     "output_type": "stream",
     "text": [
      "The car was painted orange\n"
     ]
    }
   ],
   "source": [
    "crv.paint_car('orange')"
   ]
  },
  {
   "cell_type": "code",
   "execution_count": 106,
   "metadata": {},
   "outputs": [
    {
     "data": {
      "text/plain": [
       "'orange'"
      ]
     },
     "execution_count": 106,
     "metadata": {},
     "output_type": "execute_result"
    }
   ],
   "source": [
    "crv.color"
   ]
  },
  {
   "cell_type": "markdown",
   "metadata": {},
   "source": [
    "##### Incrementing an Attribute's Value Through a Method"
   ]
  },
  {
   "cell_type": "code",
   "execution_count": null,
   "metadata": {},
   "outputs": [],
   "source": []
  },
  {
   "cell_type": "markdown",
   "metadata": {},
   "source": [
    "##### In-Class Exercise #3 - Create a class of animal with the following properties:\n",
    "\n",
    "- Name\n",
    "- Species\n",
    "- Age\n",
    "\n",
    "Create a method that allows you to increment their age by one "
   ]
  },
  {
   "cell_type": "code",
   "execution_count": 3,
   "metadata": {},
   "outputs": [
    {
     "name": "stdout",
     "output_type": "stream",
     "text": [
      "How old is your dog?: 12\n",
      "Noodle is a dog and next year they will be 13 years old.\n"
     ]
    }
   ],
   "source": [
    "class Animal:\n",
    "    def __init__(self, name, species, age):\n",
    "        self.name = name\n",
    "        self.species = species\n",
    "        self.age = age\n",
    "        \n",
    "    def older(self, age_increase):\n",
    "        self.age += 1\n",
    "        print(f'{self.name} is a {self.species} and next year they will be {self.age} years old.')\n",
    "        \n",
    "    def test(self):\n",
    "        test = True\n",
    "        while test:\n",
    "            try:\n",
    "                dog_age = int(input('How old is your dog?: '))\n",
    "                self.age = dog_age\n",
    "                break\n",
    "            except:\n",
    "                print('Put it in digits')\n",
    "#         print(f'Now your dog is {dog.older(1)} years old')\n",
    "        return dog.older(1)\n",
    "\n",
    "dog = Animal('Noodle', 'dog', 6)\n",
    "dog.test()\n",
    "            \n"
   ]
  },
  {
   "cell_type": "code",
   "execution_count": 144,
   "metadata": {},
   "outputs": [],
   "source": [
    "dog = Animal('Noodle', 'dog', 6)"
   ]
  },
  {
   "cell_type": "code",
   "execution_count": null,
   "metadata": {},
   "outputs": [],
   "source": [
    "dog.older(5)"
   ]
  },
  {
   "cell_type": "code",
   "execution_count": null,
   "metadata": {},
   "outputs": [],
   "source": [
    "test()"
   ]
  },
  {
   "cell_type": "markdown",
   "metadata": {},
   "source": [
    "## Inheritance <br>\n",
    "<p>You can create a child-parent relationship between two classes by using inheritance. What this allows you to do is have overriding methods, but also inherit traits from the parent class. Think of it as an actual parent and child, the child will inherit the parent's genes, as will the classes in OOP</p>"
   ]
  },
  {
   "cell_type": "markdown",
   "metadata": {},
   "source": [
    "##### Syntax for Inheriting from a Parent Class"
   ]
  },
  {
   "cell_type": "code",
   "execution_count": 12,
   "metadata": {},
   "outputs": [
    {
     "name": "stdout",
     "output_type": "stream",
     "text": [
      "I am a human\n",
      "dylan druid {'str': 10, 'dex': 10, 'charisma': 8}\n",
      "{'str': 10, 'dex': 10, 'charisma': 8}\n",
      "10\n"
     ]
    }
   ],
   "source": [
    "class Fantasy_Character:\n",
    "    speed = 10\n",
    "    \n",
    "    def __init__(self, name, fantasy_class, stats):\n",
    "        self.name = name\n",
    "        self.fantasy_class = fantasy_class\n",
    "        self.stats = stats\n",
    "        \n",
    "    def display_character(self):\n",
    "        print(f'{self.name} {self.fantasy_class} {ex_stats}')\n",
    "        \n",
    "        \n",
    "class Human(Fantasy_Character):\n",
    "    \n",
    "    def display_class(self):\n",
    "        print('I am a human')\n",
    "        \n",
    "ex_stats = {\n",
    "    'str': 10,\n",
    "    'dex': 10,\n",
    "    'charisma': 8\n",
    "}        \n",
    "\n",
    "dylan = Human('dylan', 'druid', ex_stats)\n",
    "\n",
    "dylan.display_class()\n",
    "\n",
    "dylan.display_character()\n",
    "\n",
    "print(dylan.stats)\n",
    "print(dylan.speed)"
   ]
  },
  {
   "cell_type": "markdown",
   "metadata": {},
   "source": [
    "##### The \\__init\\__() Method for a Child Class - super()"
   ]
  },
  {
   "cell_type": "code",
   "execution_count": 13,
   "metadata": {
    "scrolled": true
   },
   "outputs": [
    {
     "name": "stdout",
     "output_type": "stream",
     "text": [
      "frodo ranger {'str': 10, 'dex': 10, 'charisma': 8}\n",
      "12\n",
      "You rolled a 5\n",
      "10 before heal\n",
      "16 after heal\n",
      "small\n"
     ]
    }
   ],
   "source": [
    "from random import randint\n",
    "\n",
    "class Hobbit(Fantasy_Character):\n",
    "    speed = 12\n",
    "    size = 'small'\n",
    "    \n",
    "    def __init__(self, name, fantasy_class, stats, height):\n",
    "        super().__init__(name, fantasy_class, stats)\n",
    "        self.height = height\n",
    "        \n",
    "    def lucky(self):\n",
    "        print(f'You rolled a {randint(1, self.stats[\"dex\"])}')\n",
    "        \n",
    "    def display_my_class(self):\n",
    "        print(f'{stats} My class is a Hobbit')\n",
    "        \n",
    "    def drink_potion(self):\n",
    "        heal = randint(1, self.stats['str'])\n",
    "        print(self.stats['str'], 'before heal')\n",
    "        self.stats['dex'] += heal\n",
    "        print(self.stats['dex'], 'after heal')\n",
    "        \n",
    "frodo = Hobbit('frodo', 'ranger', ex_stats, 4)\n",
    "\n",
    "frodo.display_character()\n",
    "\n",
    "print(frodo.speed)\n",
    "\n",
    "frodo.lucky()\n",
    "\n",
    "frodo.drink_potion()\n",
    "\n",
    "print(frodo.size)"
   ]
  },
  {
   "cell_type": "markdown",
   "metadata": {},
   "source": [
    "##### Defining Attributes and Methods for the Child Class"
   ]
  },
  {
   "cell_type": "code",
   "execution_count": null,
   "metadata": {},
   "outputs": [],
   "source": [
    "# See Above"
   ]
  },
  {
   "cell_type": "markdown",
   "metadata": {},
   "source": [
    "##### Method Overriding"
   ]
  },
  {
   "cell_type": "code",
   "execution_count": 14,
   "metadata": {},
   "outputs": [
    {
     "name": "stdout",
     "output_type": "stream",
     "text": [
      "sam barbarian {'str': 10, 'dex': 16, 'charisma': 8}\n",
      "My class is a Stout Hobbit a sub class of Hobbit\n",
      "12\n"
     ]
    }
   ],
   "source": [
    "# See Above\n",
    "\n",
    "class Stout_Hobbit(Hobbit):\n",
    "    \n",
    "    def __init__(self, name, fantasy_class, stats, height, weight):\n",
    "        super().__init__(name, fantasy_class, stats, height)\n",
    "        self.weight = weight\n",
    "        \n",
    "    def display_my_class(self):\n",
    "        print('My class is a Stout Hobbit a sub class of Hobbit')\n",
    "        \n",
    "sam = Stout_Hobbit('sam', 'barbarian', ex_stats, 3, 150)\n",
    "\n",
    "sam.display_character()\n",
    "\n",
    "sam.display_my_class()\n",
    "\n",
    "print(sam.speed)"
   ]
  },
  {
   "cell_type": "markdown",
   "metadata": {},
   "source": [
    "## Classes as Attributes <br>\n",
    "<p>Classes can also be used as attributes within another class. This is useful in situations where you need to keep variables locally stored, instead of globally stored.</p>"
   ]
  },
  {
   "cell_type": "code",
   "execution_count": 20,
   "metadata": {},
   "outputs": [
    {
     "name": "stdout",
     "output_type": "stream",
     "text": [
      "10\n"
     ]
    }
   ],
   "source": [
    "class Fighter:\n",
    "    speed = 10\n",
    "    attack = 12\n",
    "    \n",
    "ex_fighter = Fighter()\n",
    "\n",
    "bilbo = Stout_Hobbit('bilbo', ex_fighter, ex_stats, 3, 100)\n",
    "\n",
    "print(bilbo.fantasy_class.speed)"
   ]
  },
  {
   "cell_type": "code",
   "execution_count": 10,
   "metadata": {},
   "outputs": [
    {
     "ename": "KeyboardInterrupt",
     "evalue": "Interrupted by user",
     "output_type": "error",
     "traceback": [
      "\u001b[1;31m---------------------------------------------------------------------------\u001b[0m",
      "\u001b[1;31mKeyboardInterrupt\u001b[0m                         Traceback (most recent call last)",
      "\u001b[1;32m~\\AppData\\Local\\Temp\\ipykernel_1204\\2912340913.py\u001b[0m in \u001b[0;36m<module>\u001b[1;34m\u001b[0m\n\u001b[0;32m     27\u001b[0m     \u001b[0mprint\u001b[0m\u001b[1;33m(\u001b[0m\u001b[0maddress_book\u001b[0m\u001b[1;33m)\u001b[0m\u001b[1;33m\u001b[0m\u001b[1;33m\u001b[0m\u001b[0m\n\u001b[0;32m     28\u001b[0m \u001b[1;33m\u001b[0m\u001b[0m\n\u001b[1;32m---> 29\u001b[1;33m \u001b[0mmain\u001b[0m\u001b[1;33m(\u001b[0m\u001b[1;33m)\u001b[0m\u001b[1;33m\u001b[0m\u001b[1;33m\u001b[0m\u001b[0m\n\u001b[0m",
      "\u001b[1;32m~\\AppData\\Local\\Temp\\ipykernel_1204\\2912340913.py\u001b[0m in \u001b[0;36mmain\u001b[1;34m()\u001b[0m\n\u001b[0;32m     14\u001b[0m         \u001b[0mclear_output\u001b[0m\u001b[1;33m(\u001b[0m\u001b[1;33m)\u001b[0m\u001b[1;33m\u001b[0m\u001b[1;33m\u001b[0m\u001b[0m\n\u001b[0;32m     15\u001b[0m         \u001b[1;31m# step 4\u001b[0m\u001b[1;33m\u001b[0m\u001b[1;33m\u001b[0m\u001b[0m\n\u001b[1;32m---> 16\u001b[1;33m         \u001b[0mname\u001b[0m \u001b[1;33m=\u001b[0m \u001b[0minput\u001b[0m\u001b[1;33m(\u001b[0m\u001b[1;34m'What is your name? '\u001b[0m\u001b[1;33m)\u001b[0m\u001b[1;33m\u001b[0m\u001b[1;33m\u001b[0m\u001b[0m\n\u001b[0m\u001b[0;32m     17\u001b[0m         \u001b[0maddress\u001b[0m \u001b[1;33m=\u001b[0m \u001b[0minput\u001b[0m\u001b[1;33m(\u001b[0m\u001b[1;34m'What is your address? '\u001b[0m\u001b[1;33m)\u001b[0m\u001b[1;33m\u001b[0m\u001b[1;33m\u001b[0m\u001b[0m\n\u001b[0;32m     18\u001b[0m         \u001b[1;31m# print(name, address)\u001b[0m\u001b[1;33m\u001b[0m\u001b[1;33m\u001b[0m\u001b[0m\n",
      "\u001b[1;32mC:\\ProgramData\\Anaconda3\\lib\\site-packages\\ipykernel\\kernelbase.py\u001b[0m in \u001b[0;36mraw_input\u001b[1;34m(self, prompt)\u001b[0m\n\u001b[0;32m   1175\u001b[0m                 \u001b[1;34m\"raw_input was called, but this frontend does not support input requests.\"\u001b[0m\u001b[1;33m\u001b[0m\u001b[1;33m\u001b[0m\u001b[0m\n\u001b[0;32m   1176\u001b[0m             )\n\u001b[1;32m-> 1177\u001b[1;33m         return self._input_request(\n\u001b[0m\u001b[0;32m   1178\u001b[0m             \u001b[0mstr\u001b[0m\u001b[1;33m(\u001b[0m\u001b[0mprompt\u001b[0m\u001b[1;33m)\u001b[0m\u001b[1;33m,\u001b[0m\u001b[1;33m\u001b[0m\u001b[1;33m\u001b[0m\u001b[0m\n\u001b[0;32m   1179\u001b[0m             \u001b[0mself\u001b[0m\u001b[1;33m.\u001b[0m\u001b[0m_parent_ident\u001b[0m\u001b[1;33m[\u001b[0m\u001b[1;34m\"shell\"\u001b[0m\u001b[1;33m]\u001b[0m\u001b[1;33m,\u001b[0m\u001b[1;33m\u001b[0m\u001b[1;33m\u001b[0m\u001b[0m\n",
      "\u001b[1;32mC:\\ProgramData\\Anaconda3\\lib\\site-packages\\ipykernel\\kernelbase.py\u001b[0m in \u001b[0;36m_input_request\u001b[1;34m(self, prompt, ident, parent, password)\u001b[0m\n\u001b[0;32m   1217\u001b[0m             \u001b[1;32mexcept\u001b[0m \u001b[0mKeyboardInterrupt\u001b[0m\u001b[1;33m:\u001b[0m\u001b[1;33m\u001b[0m\u001b[1;33m\u001b[0m\u001b[0m\n\u001b[0;32m   1218\u001b[0m                 \u001b[1;31m# re-raise KeyboardInterrupt, to truncate traceback\u001b[0m\u001b[1;33m\u001b[0m\u001b[1;33m\u001b[0m\u001b[0m\n\u001b[1;32m-> 1219\u001b[1;33m                 \u001b[1;32mraise\u001b[0m \u001b[0mKeyboardInterrupt\u001b[0m\u001b[1;33m(\u001b[0m\u001b[1;34m\"Interrupted by user\"\u001b[0m\u001b[1;33m)\u001b[0m \u001b[1;32mfrom\u001b[0m \u001b[1;32mNone\u001b[0m\u001b[1;33m\u001b[0m\u001b[1;33m\u001b[0m\u001b[0m\n\u001b[0m\u001b[0;32m   1220\u001b[0m             \u001b[1;32mexcept\u001b[0m \u001b[0mException\u001b[0m\u001b[1;33m:\u001b[0m\u001b[1;33m\u001b[0m\u001b[1;33m\u001b[0m\u001b[0m\n\u001b[0;32m   1221\u001b[0m                 \u001b[0mself\u001b[0m\u001b[1;33m.\u001b[0m\u001b[0mlog\u001b[0m\u001b[1;33m.\u001b[0m\u001b[0mwarning\u001b[0m\u001b[1;33m(\u001b[0m\u001b[1;34m\"Invalid Message:\"\u001b[0m\u001b[1;33m,\u001b[0m \u001b[0mexc_info\u001b[0m\u001b[1;33m=\u001b[0m\u001b[1;32mTrue\u001b[0m\u001b[1;33m)\u001b[0m\u001b[1;33m\u001b[0m\u001b[1;33m\u001b[0m\u001b[0m\n",
      "\u001b[1;31mKeyboardInterrupt\u001b[0m: Interrupted by user"
     ]
    }
   ],
   "source": [
    "from IPython.display import clear_output\n",
    "\n",
    "# step 2\n",
    "address_book = {}\n",
    "\n",
    "# step 1\n",
    "def store_info(name, address):\n",
    "    address_book[name] = address\n",
    "    \n",
    "def main():\n",
    "    # address_book = {}\n",
    "    # step 3\n",
    "    while True:\n",
    "        clear_output()\n",
    "        # step 4\n",
    "        name = input('What is your name? ')\n",
    "        address = input('What is your address? ')\n",
    "        # print(name, address)\n",
    "        \n",
    "        store_info(name, address)\n",
    "        \n",
    "        cont = input('Would you like to continue (y/n): ')\n",
    "        \n",
    "        if cont == 'n':\n",
    "            break\n",
    "            \n",
    "    print(address_book)\n",
    "        \n",
    "main()"
   ]
  },
  {
   "cell_type": "code",
   "execution_count": 59,
   "metadata": {},
   "outputs": [],
   "source": [
    "class AddressBook:  #1\n",
    "    def __init__(self):\n",
    "        self.contacts = [] #3\n",
    "        \n",
    "    def add_contact(self):  #2\n",
    "        name = input('Enter Name: ')\n",
    "        phone_number = input('Enter Phone Number: ')\n",
    "        address = input('Enter Address: ')\n",
    "        email = input('Enter Email: ')\n",
    "        \n",
    "        new_contact = Contact(name, phone_number, address, email)\n",
    "        #above is just to store info \n",
    "        self.contacts.append(new_contact)   #3\n",
    "        \n",
    "    def delete_contact(self):   #4\n",
    "        delete_name = input('Enter name to delete: ')\n",
    "        \n",
    "        for i in range(len(self.contacts)):\n",
    "            if self.contacts[i].name.lower() == delete_name.lower():\n",
    "                self.contacts.pop(i)\n",
    "                print(f'Contact Deleted')\n",
    "                return   #break? \n",
    "            \n",
    "        print(f'{delete_name} was not found.')\n",
    "        \n",
    "    def print_contacts(self):  #5\n",
    "        for contact in self.contacts:\n",
    "            print(f'{contact.name}')\n",
    "            print(f'Phone Number: {contact.phone_number}')\n",
    "            print(f'Address: {contact.address}')\n",
    "            print(f'Email: {contact.email}')\n",
    "            \n",
    "            \n",
    "    def run(self):\n",
    "        while True:\n",
    "            user_choice = input('What would you like to do? (add/delete/show/quit) ').lower()\n",
    "            \n",
    "            if user_choice == 'add':\n",
    "                self.add_contact()\n",
    "            elif user_choice == 'delete':\n",
    "                self.delete_contact()\n",
    "            elif user_choice == 'show':\n",
    "                self.print_contacts()\n",
    "            elif user_choice == 'quit':\n",
    "                self.print_contacts()\n",
    "                print('Bye Bye')\n",
    "                return\n",
    "            else:\n",
    "                print('That wasn\\'t a valid input, please try again.')\n",
    "            \n",
    "            \n",
    "            \n",
    "class Contact:\n",
    "    def __init__(self, name, phone_number, address, email):\n",
    "        self.name = name\n",
    "        self.phone_number = phone_number,\n",
    "        self.address = address\n",
    "        self.email = email\n",
    "        "
   ]
  },
  {
   "cell_type": "code",
   "execution_count": null,
   "metadata": {},
   "outputs": [],
   "source": [
    "my_test = AddressBook()\n",
    "my_test.run()"
   ]
  },
  {
   "cell_type": "code",
   "execution_count": 24,
   "metadata": {},
   "outputs": [
    {
     "ename": "NameError",
     "evalue": "name 'AddressBook' is not defined",
     "output_type": "error",
     "traceback": [
      "\u001b[1;31m---------------------------------------------------------------------------\u001b[0m",
      "\u001b[1;31mNameError\u001b[0m                                 Traceback (most recent call last)",
      "\u001b[1;32m~\\AppData\\Local\\Temp\\ipykernel_1204\\430240737.py\u001b[0m in \u001b[0;36m<module>\u001b[1;34m\u001b[0m\n\u001b[1;32m----> 1\u001b[1;33m \u001b[0mmy_book\u001b[0m \u001b[1;33m=\u001b[0m \u001b[0mAddressBook\u001b[0m\u001b[1;33m(\u001b[0m\u001b[1;33m)\u001b[0m \u001b[1;31m# Instantiate class  #1\u001b[0m\u001b[1;33m\u001b[0m\u001b[1;33m\u001b[0m\u001b[0m\n\u001b[0m\u001b[0;32m      2\u001b[0m \u001b[0mmy_book\u001b[0m\u001b[1;33m.\u001b[0m\u001b[0madd_contact\u001b[0m\u001b[1;33m(\u001b[0m\u001b[1;33m)\u001b[0m \u001b[1;31m# Call method  #2\u001b[0m\u001b[1;33m\u001b[0m\u001b[1;33m\u001b[0m\u001b[0m\n\u001b[0;32m      3\u001b[0m \u001b[0mprint\u001b[0m\u001b[1;33m(\u001b[0m\u001b[0mmy_book\u001b[0m\u001b[1;33m.\u001b[0m\u001b[0mcontacts\u001b[0m\u001b[1;33m)\u001b[0m \u001b[1;31m# Check that method actually worked #3\u001b[0m\u001b[1;33m\u001b[0m\u001b[1;33m\u001b[0m\u001b[0m\n\u001b[0;32m      4\u001b[0m \u001b[0mmy_book\u001b[0m\u001b[1;33m.\u001b[0m\u001b[0mdelete_contact\u001b[0m\u001b[1;33m(\u001b[0m\u001b[1;33m)\u001b[0m \u001b[1;31m#4\u001b[0m\u001b[1;33m\u001b[0m\u001b[1;33m\u001b[0m\u001b[0m\n\u001b[0;32m      5\u001b[0m \u001b[0mmy_book\u001b[0m\u001b[1;33m.\u001b[0m\u001b[0mprint_contacts\u001b[0m\u001b[1;33m(\u001b[0m\u001b[1;33m)\u001b[0m \u001b[1;31m#5\u001b[0m\u001b[1;33m\u001b[0m\u001b[1;33m\u001b[0m\u001b[0m\n",
      "\u001b[1;31mNameError\u001b[0m: name 'AddressBook' is not defined"
     ]
    }
   ],
   "source": [
    "my_book = AddressBook() # Instantiate class  #1\n",
    "my_book.add_contact() # Call method  #2\n",
    "print(my_book.contacts) # Check that method actually worked #3\n",
    "my_book.delete_contact() #4\n",
    "my_book.print_contacts() #5"
   ]
  },
  {
   "cell_type": "code",
   "execution_count": 24,
   "metadata": {},
   "outputs": [],
   "source": [
    "class Parking():\n",
    "    def __init__(self):\n",
    "        self.parking = []\n",
    "\n",
    "\n",
    "\n",
    "    def take_ticket(self):\n",
    "        quantity = 100\n",
    "        parking = 1000\n",
    "        ticket_count = 1\n",
    "        new_amount = quantity - ticket_count\n",
    "        available_parking = parking - ticket_count\n",
    "        print('Please take your ticket')\n",
    "        print(f'There are now {new_amount} tickets available and {available_parking} parking spaces open.')\n",
    "        return\n",
    "        \n",
    "    def payForParking(self):\n",
    "        price = 5.99\n",
    "        cost = input('Please enter the amount owed: ($5.99) ')\n",
    "        if cost.isdigit():\n",
    "            cost = float(cost)\n",
    "            if cost == price:\n",
    "                print('Thank you, the ticket expires in 15 minutes. Please exit soon.')\n",
    "            elif cost > price:\n",
    "                refund = cost - price\n",
    "                print(f'Thank you, please wait for your change ${refund}. The ticket expires in 15 minutes. Please exit soon.')\n",
    "            else:\n",
    "                amount_owed = price - cost\n",
    "                print(f'Please pay the remaining amount ${amount_owed}')\n",
    "                return\n",
    "        else:\n",
    "            print(\"Invalid input, please enter a number in digits.\")\n",
    "\n",
    "\n",
    "    def main(self):\n",
    "        while True:\n",
    "            user_selection = input('What would you like to do? Take a ticket (#1), Pay for parking (#2), Leave garage (#3). Please enter digit value: ')\n",
    "            if user_selection.isdigit():\n",
    "                if user_selection == '1':\n",
    "                    garage.take_ticket()\n",
    "                elif user_selection == '2':\n",
    "                    garage.payForParking()\n",
    "                # elif user_selection == 3:\n",
    "                #     garage.\n",
    "                return\n",
    "            else:\n",
    "                print('Please value in digits ')\n",
    "\n",
    "\n",
    "class Tickets():\n",
    "    def __init__(self, ticket, quantity):\n",
    "        self.ticket = ticket\n",
    "        self.quantity = quantity\n",
    "    pass\n",
    "\n",
    "\n",
    "\n"
   ]
  },
  {
   "cell_type": "code",
   "execution_count": 25,
   "metadata": {},
   "outputs": [
    {
     "name": "stdout",
     "output_type": "stream",
     "text": [
      "What would you like to do? Take a ticket (#1), Pay for parking (#2), Leave garage (#3). Please enter digit value: 1\n",
      "Please take your ticket\n",
      "There are now 99 tickets available and 999 parking spaces open.\n"
     ]
    }
   ],
   "source": [
    "\n",
    "garage = Parking()\n",
    "garage.main()"
   ]
  },
  {
   "cell_type": "markdown",
   "metadata": {},
   "source": [
    "# Exercises"
   ]
  },
  {
   "cell_type": "markdown",
   "metadata": {},
   "source": [
    "### Exercise 1 - Turn the shopping cart program from yesterday into an object-oriented program\n",
    "\n",
    "The comments in the cell below are there as a guide for thinking about the problem. However, if you feel a different way is best for you and your own thought process, please do what feels best for you by all means."
   ]
  },
  {
   "cell_type": "code",
   "execution_count": 29,
   "metadata": {},
   "outputs": [],
   "source": [
    "# Create a class called cart that retains items and has methods to add, remove, and show\n",
    "\n",
    "class Cart():\n",
    "    def __init__(self):\n",
    "        self.carts = []\n",
    "        \n",
    "    def add_items(self):\n",
    "        item = input('What item would you like to add?: ')\n",
    "        while True:\n",
    "            quantity = input('How many items would you like to add?: ')\n",
    "            if quantity.isdigit():\n",
    "                quantity = int(quantity)\n",
    "                new_items = Items(item, quantity)\n",
    "                self.carts.append(new_items)\n",
    "                return\n",
    "            else:\n",
    "                print('Please enter amount in digits')\n",
    "\n",
    "      \n",
    "        \n",
    "    def remove_items(self):\n",
    "        delete_item = input('What item would you like to remove?: ')\n",
    "        for i in range(len(self.carts)):\n",
    "            if self.carts[i].item.lower() == delete_item.lower():\n",
    "                while True:\n",
    "                    delete_quantity = input('How many would you like to remove?: ')\n",
    "                    if delete_quantity.isdigit():\n",
    "                        delete_quantity = int(delete_quantity)\n",
    "                        self.carts[i].quantity -= delete_quantity\n",
    "                        print(f'{delete_quantity} {delete_item} has been removed.')\n",
    "                        if self.carts[i].quantity == 0:\n",
    "                            self.carts.pop(i)\n",
    "                            print(f'{delete_item} have been removed.')\n",
    "                        return\n",
    "                    else:\n",
    "                        print('Please enter quantity in digits')\n",
    "        print(f'{delete_item} was not found')\n",
    "\n",
    "        \n",
    "    def show_list(self):\n",
    "        if not self.carts:\n",
    "            print('There are no items in your cart.')\n",
    "            return\n",
    "        \n",
    "        for items in self.carts:\n",
    "            print(f'Currently you have {items.quantity} {items.item} in your cart.')\n",
    "            \n",
    "    \n",
    "    def run(self):\n",
    "        while True:\n",
    "            user_selection = input('What would you like to do? (add/remove/show/checkout): ').lower()\n",
    "            if user_selection == 'add':\n",
    "                my_cart.add_items()\n",
    "                my_cart.show_list()\n",
    "            elif user_selection == 'remove':\n",
    "                my_cart.show_list()\n",
    "                my_cart.remove_items()\n",
    "                my_cart.show_list()\n",
    "            elif user_selection == 'show':\n",
    "                my_cart.show_list()\n",
    "            elif user_selection == 'checkout':\n",
    "                print('Purchasing the following items in cart: ')\n",
    "                for items in self.carts:\n",
    "                    print(f'{items.quantity} {items.item}')\n",
    "                print('Thank you for shopping with us')\n",
    "                return\n",
    "            else:\n",
    "                print('Please enter a valid selection. (add/remove/show/checkout): ')\n",
    "\n",
    "class Items():\n",
    "    def __init__(self, item, quantity):\n",
    "        self.item = item\n",
    "        self.quantity = quantity\n",
    "        \n",
    "    "
   ]
  },
  {
   "cell_type": "code",
   "execution_count": null,
   "metadata": {},
   "outputs": [
    {
     "name": "stdout",
     "output_type": "stream",
     "text": [
      "What would you like to do? (add/remove/show/checkout): add\n",
      "What item would you like to add?: eggs\n",
      "How many items would you like to add?: 20\n",
      "Currently you have 20 eggs in your cart.\n",
      "What would you like to do? (add/remove/show/checkout): remove\n",
      "Currently you have 20 eggs in your cart.\n",
      "What item would you like to remove?: ten\n",
      "ten was not found\n",
      "Currently you have 20 eggs in your cart.\n",
      "What would you like to do? (add/remove/show/checkout): reove\n",
      "Please enter a valid selection. (add/remove/show/checkout): \n",
      "What would you like to do? (add/remove/show/checkout): remove\n",
      "Currently you have 20 eggs in your cart.\n",
      "What item would you like to remove?: eggs\n",
      "How many would you like to remove?: 10\n",
      "10 eggs has been removed.\n",
      "Currently you have 10 eggs in your cart.\n"
     ]
    }
   ],
   "source": [
    "my_cart = Cart()\n",
    "my_cart.run()"
   ]
  },
  {
   "cell_type": "markdown",
   "metadata": {},
   "source": [
    "### Exercise 2 - Write a Python class which has two methods get_String and print_String. get_String accept a string from the user and print_String print the string in upper case"
   ]
  },
  {
   "cell_type": "code",
   "execution_count": 7,
   "metadata": {},
   "outputs": [],
   "source": [
    "class String():\n",
    "    def __init__(self):\n",
    "        self.string = []\n",
    "        \n",
    "        \n",
    "    def get_String(self):\n",
    "        sent = input('Please enter a sentence: ')\n",
    "        new_string = Words(sent)\n",
    "        self.string.append(new_string)\n",
    "        \n",
    "        \n",
    "    def print_String(self):\n",
    "        for wording in self.string:\n",
    "            print(f'{wording.sentence.upper()}')\n",
    "            \n",
    "    def run(self):\n",
    "        self.get_String()\n",
    "        self.print_String()\n",
    "    \n",
    "class Words():\n",
    "    def __init__(self, sentence):\n",
    "        self.sentence = sentence"
   ]
  },
  {
   "cell_type": "code",
   "execution_count": 9,
   "metadata": {},
   "outputs": [
    {
     "name": "stdout",
     "output_type": "stream",
     "text": [
      "Please enter a sentence: test test test\n",
      "TEST TEST TEST\n"
     ]
    }
   ],
   "source": [
    "my_string = String()\n",
    "my_string.run()"
   ]
  }
 ],
 "metadata": {
  "kernelspec": {
   "display_name": "Python 3 (ipykernel)",
   "language": "python",
   "name": "python3"
  },
  "language_info": {
   "codemirror_mode": {
    "name": "ipython",
    "version": 3
   },
   "file_extension": ".py",
   "mimetype": "text/x-python",
   "name": "python",
   "nbconvert_exporter": "python",
   "pygments_lexer": "ipython3",
   "version": "3.9.13"
  }
 },
 "nbformat": 4,
 "nbformat_minor": 2
}
